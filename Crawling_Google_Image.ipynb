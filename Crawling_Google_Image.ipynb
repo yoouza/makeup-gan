{
  "nbformat": 4,
  "nbformat_minor": 0,
  "metadata": {
    "colab": {
      "name": "[크롤링] 구글(화장 전후).ipynb",
      "provenance": [],
      "collapsed_sections": [],
      "include_colab_link": true
    },
    "kernelspec": {
      "name": "python3",
      "display_name": "Python 3"
    }
  },
  "cells": [
    {
      "cell_type": "markdown",
      "metadata": {
        "id": "view-in-github",
        "colab_type": "text"
      },
      "source": [
        "<a href=\"https://colab.research.google.com/github/yoouza/makeup_with_GAN/blob/master/Crawling_Google_Image.ipynb\" target=\"_parent\"><img src=\"https://colab.research.google.com/assets/colab-badge.svg\" alt=\"Open In Colab\"/></a>"
      ]
    },
    {
      "cell_type": "code",
      "metadata": {
        "id": "hQPsOn_UTPRM",
        "colab_type": "code",
        "colab": {
          "base_uri": "https://localhost:8080/",
          "height": 55
        },
        "outputId": "dcbe3b1c-397d-41eb-8080-3cdf5969e967"
      },
      "source": [
        "from google.colab import drive\n",
        "drive.mount('/content/drive')"
      ],
      "execution_count": null,
      "outputs": [
        {
          "output_type": "stream",
          "text": [
            "Drive already mounted at /content/drive; to attempt to forcibly remount, call drive.mount(\"/content/drive\", force_remount=True).\n"
          ],
          "name": "stdout"
        }
      ]
    },
    {
      "cell_type": "code",
      "metadata": {
        "id": "jDeKIhwgaJaJ",
        "colab_type": "code",
        "colab": {}
      },
      "source": [
        "import requests\n",
        "from bs4 import BeautifulSoup\n",
        "import  urllib.request"
      ],
      "execution_count": null,
      "outputs": []
    },
    {
      "cell_type": "code",
      "metadata": {
        "id": "hq4uCI4naSql",
        "colab_type": "code",
        "colab": {}
      },
      "source": [
        "img_urls=[]\n",
        "a=1\n",
        "\n",
        "for start in range(300):\n",
        "    url = \"https://www.google.com/search?q=%ED%99%94%EC%9E%A5+%EC%A0%84%ED%9B%84&bih=913&biw=742&gbv=1&tbm=isch&start={}&sa=N\".format(start*20)\n",
        "    res = requests.get(url)\n",
        "    bs = BeautifulSoup(res.content, 'lxml')\n",
        "\n",
        "    for i in bs.select(\"div.RAyV4b img\"):\n",
        "        img_urls.append(i.attrs[\"src\"])\n",
        "\n",
        "for img_url in img_urls:\n",
        "        urllib.request.urlretrieve(img_url, \"/content/drive/My Drive/Colab Notebooks/머신러닝 1조 /[크롤링]화장 전후/\" + str(a) + \".jpg\")\n",
        "        a+=1\n"
      ],
      "execution_count": null,
      "outputs": []
    },
    {
      "cell_type": "code",
      "metadata": {
        "id": "WGXtNUOiaqiL",
        "colab_type": "code",
        "colab": {}
      },
      "source": [
        ""
      ],
      "execution_count": null,
      "outputs": []
    }
  ]
}